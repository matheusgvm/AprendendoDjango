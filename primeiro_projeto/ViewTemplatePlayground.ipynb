{
 "cells": [
  {
   "cell_type": "code",
   "execution_count": 5,
   "metadata": {},
   "outputs": [],
   "source": [
    "import os\n",
    "import django\n",
    "os.environ.setdefault(\"DJANGO_SETTINGS_MODULE\", \"primeiro_projeto.settings\")\n",
    "\n",
    "django.setup()"
   ]
  },
  {
   "cell_type": "code",
   "execution_count": 6,
   "metadata": {},
   "outputs": [
    {
     "data": {
      "text/plain": [
       "'Ola Matheus!'"
      ]
     },
     "execution_count": 6,
     "metadata": {},
     "output_type": "execute_result"
    }
   ],
   "source": [
    "from django.template import engines\n",
    "django_engine = engines['django']\n",
    "template = django_engine.from_string(\"Ola {{ name }}!\")\n",
    "dado = {'name':'Matheus'}\n",
    "template.render(dado)"
   ]
  },
  {
   "cell_type": "code",
   "execution_count": 7,
   "metadata": {},
   "outputs": [
    {
     "data": {
      "text/plain": [
       "'Ola Alice! Telefone: (31) 555-4444'"
      ]
     },
     "execution_count": 7,
     "metadata": {},
     "output_type": "execute_result"
    }
   ],
   "source": [
    "dados_pagina = {\n",
    "                   \"cliente\":{\n",
    "                     \"nome\":\"Alice\",\n",
    "                     \"endereco\":{\"rua\":\"A\",\"numero\":2010,\n",
    "                                 \"bairro\":\"Esperança\",\"Cidade\":\"Belo Horizonte\",\n",
    "                                 \"Estado\":\"MG\"\n",
    "                                 },\n",
    "                      \"telefones\":[\"(31) 555-4444\",\"(31) 999-4444\"]\n",
    "                   }\n",
    "                }\n",
    "template = django_engine.from_string(\"Ola {{ cliente.nome }}! Telefone: {{cliente.telefones.0}}\")\n",
    "template.render(dados_pagina)"
   ]
  }
 ],
 "metadata": {
  "kernelspec": {
   "display_name": "base",
   "language": "python",
   "name": "python3"
  },
  "language_info": {
   "codemirror_mode": {
    "name": "ipython",
    "version": 3
   },
   "file_extension": ".py",
   "mimetype": "text/x-python",
   "name": "python",
   "nbconvert_exporter": "python",
   "pygments_lexer": "ipython3",
   "version": "3.9.13 (main, Aug 25 2022, 23:51:50) [MSC v.1916 64 bit (AMD64)]"
  },
  "orig_nbformat": 4,
  "vscode": {
   "interpreter": {
    "hash": "16f5b46f222e2a3e8d4adbf7141cae37b71ed37616e60735fa5d1164a1bc3ada"
   }
  }
 },
 "nbformat": 4,
 "nbformat_minor": 2
}
