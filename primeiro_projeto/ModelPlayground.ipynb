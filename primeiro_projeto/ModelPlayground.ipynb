{
 "cells": [
  {
   "attachments": {},
   "cell_type": "markdown",
   "metadata": {},
   "source": [
    "Feito a partir das aulas do Professor Daniel Hasan - https://www.youtube.com/watch?v=ZkttLNk2jXY&list=PLwIaU1DGYV6skjkahOKtpgs9bPXlrVrIp&index=2&ab_channel=DanielHasanDalip"
   ]
  },
  {
   "cell_type": "code",
   "execution_count": 8,
   "metadata": {},
   "outputs": [],
   "source": [
    "import os\n",
    "import django\n",
    "\n",
    "os.environ.setdefault(\"DJANGO_SETTINGS_MODULE\", \"primeiro_projeto.settings\")\n",
    "os.environ[\"DJANGO_ALLOW_ASYNC_UNSAFE\"] = \"true\"\n",
    "\n",
    "django.setup()"
   ]
  },
  {
   "cell_type": "code",
   "execution_count": 9,
   "metadata": {},
   "outputs": [],
   "source": [
    "from app_projeto.models import Tesouro\n",
    "\n",
    "#Exclui todos os objetos da tabela\n",
    "Tesouro.objects.all().delete()\n",
    "\n",
    "# Cria objeto\n",
    "t1 = Tesouro(nome=\"Moedas de ouro\",quantidade=4,valor=2.4)\n",
    "# Salva no DB\n",
    "t1.save()"
   ]
  },
  {
   "cell_type": "code",
   "execution_count": 10,
   "metadata": {},
   "outputs": [
    {
     "data": {
      "text/plain": [
       "<Tesouro: Barril de rum quantidade: 3 R$ 343 >"
      ]
     },
     "execution_count": 10,
     "metadata": {},
     "output_type": "execute_result"
    }
   ],
   "source": [
    "# Cria e já salva no DB\n",
    "Tesouro.objects.create(nome=\"Barril de rum\",quantidade=3,valor=343)"
   ]
  },
  {
   "cell_type": "code",
   "execution_count": 11,
   "metadata": {},
   "outputs": [
    {
     "data": {
      "text/plain": [
       "[<Tesouro: Coroa quantidade: 1 R$ 23.2 >,\n",
       " <Tesouro: Calice quantidade: 3 R$ 13.2 >]"
      ]
     },
     "execution_count": 11,
     "metadata": {},
     "output_type": "execute_result"
    }
   ],
   "source": [
    "# Cria e salva vários objetos\n",
    "Tesouro.objects.bulk_create([\\\n",
    "                Tesouro(nome=\"Coroa\",quantidade=1,valor=23.2),\n",
    "                Tesouro(nome=\"Calice\",quantidade=3,valor=13.2)])"
   ]
  },
  {
   "cell_type": "code",
   "execution_count": 12,
   "metadata": {},
   "outputs": [
    {
     "data": {
      "text/plain": [
       "<Tesouro: Coroa quantidade: 1 R$ 23.20 >"
      ]
     },
     "execution_count": 12,
     "metadata": {},
     "output_type": "execute_result"
    }
   ],
   "source": [
    "# Obter registro do DB\n",
    "coroa = Tesouro.objects.get(nome=\"Coroa\")\n",
    "coroa"
   ]
  },
  {
   "cell_type": "code",
   "execution_count": 13,
   "metadata": {},
   "outputs": [
    {
     "data": {
      "text/plain": [
       "<QuerySet [<Tesouro: Moedas de ouro quantidade: 4 R$ 2.40 >, <Tesouro: Barril de rum quantidade: 3 R$ 343.00 >, <Tesouro: Coroa quantidade: 1 R$ 23.20 >, <Tesouro: Calice quantidade: 3 R$ 13.20 >]>"
      ]
     },
     "execution_count": 13,
     "metadata": {},
     "output_type": "execute_result"
    }
   ],
   "source": [
    "# Obter todos os registros\n",
    "Tesouro.objects.all()"
   ]
  },
  {
   "cell_type": "code",
   "execution_count": 14,
   "metadata": {},
   "outputs": [
    {
     "data": {
      "text/plain": [
       "(<Tesouro: Coroa Linda quantidade: 1 R$ 23.2 >, True)"
      ]
     },
     "execution_count": 14,
     "metadata": {},
     "output_type": "execute_result"
    }
   ],
   "source": [
    "# Cria objeto se não existir -> retorna uma tupla\n",
    "Tesouro.objects.get_or_create(nome=\"Coroa Linda\",quantidade=1,valor=23.2)"
   ]
  },
  {
   "cell_type": "code",
   "execution_count": 15,
   "metadata": {},
   "outputs": [
    {
     "data": {
      "text/plain": [
       "<QuerySet [<Tesouro: Coroa quantidade: 1 R$ 23.20 >]>"
      ]
     },
     "execution_count": 15,
     "metadata": {},
     "output_type": "execute_result"
    }
   ],
   "source": [
    "# Busca com filtro\n",
    "Tesouro.objects.filter(nome='Coroa', quantidade=1)"
   ]
  },
  {
   "cell_type": "code",
   "execution_count": 16,
   "metadata": {},
   "outputs": [
    {
     "data": {
      "text/plain": [
       "<QuerySet [<Tesouro: Coroa quantidade: 1 R$ 23.20 >, <Tesouro: Coroa Linda quantidade: 1 R$ 23.20 >]>"
      ]
     },
     "execution_count": 16,
     "metadata": {},
     "output_type": "execute_result"
    }
   ],
   "source": [
    "Tesouro.objects.filter(nome__startswith=\"Coroa\",quantidade=1)"
   ]
  },
  {
   "cell_type": "code",
   "execution_count": 17,
   "metadata": {},
   "outputs": [
    {
     "data": {
      "text/plain": [
       "<QuerySet [<Tesouro: Moedas de ouro quantidade: 4 R$ 2.40 >, <Tesouro: Barril de rum quantidade: 3 R$ 343.00 >, <Tesouro: Calice quantidade: 3 R$ 13.20 >]>"
      ]
     },
     "execution_count": 17,
     "metadata": {},
     "output_type": "execute_result"
    }
   ],
   "source": [
    "# Todos exceto um determinado elemento\n",
    "Tesouro.objects.exclude(nome__startswith=\"Coroa\")"
   ]
  },
  {
   "cell_type": "code",
   "execution_count": 18,
   "metadata": {},
   "outputs": [
    {
     "data": {
      "text/plain": [
       "<QuerySet [<Tesouro: Moedas de ouro quantidade: 4 R$ 2.40 >]>"
      ]
     },
     "execution_count": 18,
     "metadata": {},
     "output_type": "execute_result"
    }
   ],
   "source": [
    "# Concatenado filtros\n",
    "Tesouro.objects.exclude(nome__startswith=\"Coroa\").filter(valor__lt = 10)"
   ]
  },
  {
   "cell_type": "code",
   "execution_count": 19,
   "metadata": {},
   "outputs": [
    {
     "data": {
      "text/plain": [
       "<QuerySet [<Tesouro: Moedas de ouro quantidade: 4 R$ 2.40 >, <Tesouro: Barril de rum quantidade: 3 R$ 343.00 >, <Tesouro: Coroa quantidade: 1 R$ 23.20 >]>"
      ]
     },
     "execution_count": 19,
     "metadata": {},
     "output_type": "execute_result"
    }
   ],
   "source": [
    "# Limitar as 3 primeiras linhas\n",
    "Tesouro.objects.all()[:3]"
   ]
  },
  {
   "cell_type": "code",
   "execution_count": 21,
   "metadata": {},
   "outputs": [
    {
     "data": {
      "text/plain": [
       "<QuerySet [<Tesouro: Moedas de ouro quantidade: 4 R$ 2.40 >]>"
      ]
     },
     "execution_count": 21,
     "metadata": {},
     "output_type": "execute_result"
    }
   ],
   "source": [
    "# Filtros com outros campos - Valor menor que a quantidade\n",
    "from django.db.models import F\n",
    "Tesouro.objects.filter(valor__lt = F('quantidade'))"
   ]
  },
  {
   "cell_type": "code",
   "execution_count": 23,
   "metadata": {},
   "outputs": [
    {
     "data": {
      "text/plain": [
       "<QuerySet [{'id': 7, 'nome': 'Moedas de ouro', 'quantidade': 4}, {'id': 8, 'nome': 'Barril de rum', 'quantidade': 3}, {'id': 9, 'nome': 'Coroa', 'quantidade': 1}, {'id': 10, 'nome': 'Calice', 'quantidade': 3}, {'id': 11, 'nome': 'Coroa Linda', 'quantidade': 1}]>"
      ]
     },
     "execution_count": 23,
     "metadata": {},
     "output_type": "execute_result"
    }
   ],
   "source": [
    "# Exibir apenas o nome e a quantidade - Projeção\n",
    "# values_list retorna em lista ao invés de dicionário\n",
    "# Usar .distinct() para eliminar elementos repetidos\n",
    "# Documentação de consultas(queries) - https://docs.djangoproject.com/en/3.0/topics/db/queries/\n",
    "Tesouro.objects.all().values(\"id\",\"nome\",\"quantidade\")"
   ]
  },
  {
   "cell_type": "code",
   "execution_count": 29,
   "metadata": {},
   "outputs": [
    {
     "name": "stdout",
     "output_type": "stream",
     "text": [
      "Tesouro: Moedas de ouro quantidade: 4 R$ 2.40  Total: 9.60000000000000\n"
     ]
    }
   ],
   "source": [
    "# Campos calculados\n",
    "# Operações no banco de dados são mais otimizadas - menos consultas mais rápido será a aplicação\n",
    "# Documentação Django Expressions - https://docs.djangoproject.com/en/3.0/ref/models/expressions/\n",
    "# Calcular o valor total\n",
    "\n",
    "from django.db.models import F,ExpressionWrapper,DecimalField\n",
    "\n",
    "# Define o tipo\n",
    "tipo_campo_calculado = DecimalField(max_digits=10,decimal_places=2,blank=True)\n",
    "\n",
    "# Descreve o campo\n",
    "expressao_valor_total = ExpressionWrapper(F('valor')*F('quantidade'),output_field=tipo_campo_calculado)\n",
    "\n",
    "# Faz a consulta com o campo calculado\n",
    "lista = Tesouro.objects.annotate(total=expressao_valor_total)\n",
    "\n",
    "print(f\"Tesouro: {lista[0]} Total: {lista[0].total}\")"
   ]
  },
  {
   "cell_type": "code",
   "execution_count": 30,
   "metadata": {},
   "outputs": [
    {
     "data": {
      "text/plain": [
       "{'quantidade__sum': 12}"
      ]
     },
     "execution_count": 30,
     "metadata": {},
     "output_type": "execute_result"
    }
   ],
   "source": [
    "# Obtém a quantidade total de tesouros\n",
    "from django.db.models import Sum\n",
    "Tesouro.objects.aggregate(Sum(\"quantidade\"))"
   ]
  },
  {
   "cell_type": "code",
   "execution_count": 31,
   "metadata": {},
   "outputs": [
    {
     "data": {
      "text/plain": [
       "<QuerySet [{'nome': 'Barril de rum', 'quantidade__sum': 3}, {'nome': 'Calice', 'quantidade__sum': 3}, {'nome': 'Coroa', 'quantidade__sum': 1}, {'nome': 'Coroa Linda', 'quantidade__sum': 1}, {'nome': 'Moedas de ouro', 'quantidade__sum': 4}]>"
      ]
     },
     "execution_count": 31,
     "metadata": {},
     "output_type": "execute_result"
    }
   ],
   "source": [
    "# Obtém, para cada nome, a quantidade total\n",
    "Tesouro.objects.values(\"nome\").annotate(Sum(\"quantidade\"))"
   ]
  },
  {
   "cell_type": "code",
   "execution_count": 32,
   "metadata": {},
   "outputs": [],
   "source": [
    "# Atualiza o tesouro com nome 'Coroa'\n",
    "t = Tesouro.objects.get(nome=\"Coroa\")\n",
    "t.quantidade = 10\n",
    "t.save()"
   ]
  },
  {
   "cell_type": "code",
   "execution_count": 33,
   "metadata": {},
   "outputs": [
    {
     "data": {
      "text/plain": [
       "(1, {'app_projeto.Tesouro': 1})"
      ]
     },
     "execution_count": 33,
     "metadata": {},
     "output_type": "execute_result"
    }
   ],
   "source": [
    "# Deleta elemento de nome \"Coroa\"\n",
    "Tesouro.objects.get(nome=\"Coroa\").delete()"
   ]
  },
  {
   "cell_type": "code",
   "execution_count": 35,
   "metadata": {},
   "outputs": [],
   "source": [
    "from datetime import datetime \n",
    "from app_projeto.models import *\n",
    "bloguinho = Blog.objects.create(nome=\"Bloguinho\",sobre=\"Este é um blog\")\n",
    "\n",
    "autores = [Author(nome=\"Matheus\",email=\"matheus@email.com\"),\n",
    "                                      Author(nome=\"Rebeca\",email=\"resb@email.com\"),\n",
    "                                     Author(nome=\"Pepe\",email=\"peps@email.com\")]\n",
    "\n",
    "for autor in autores:\n",
    "  autor.save()\n",
    "\n",
    "posts = [Post(blog=bloguinho,titulo=\"Meu primeiro post\",rating=10, texto=\"la\",data_publicacao=datetime.now()),\n",
    "        Post(blog=bloguinho,titulo=\"Meu segundo post\",rating=10, texto=\"la2\",data_publicacao=datetime.now()),\n",
    "        Post(blog=bloguinho,titulo=\"Meu terceiro post\",rating=10, texto=\"la3\",data_publicacao=datetime.now()),]\n",
    "\n",
    "for post in posts:\n",
    "    post.save()\n",
    "\n",
    "# Vincula os autores aos posts\n",
    "posts[0].autores.add(autores[0])\n",
    "posts[1].autores.add(autores[1])\n",
    "posts[1].autores.add(autores[2])\n",
    "posts[2].autores.add(autores[2])"
   ]
  },
  {
   "cell_type": "code",
   "execution_count": 37,
   "metadata": {},
   "outputs": [
    {
     "data": {
      "text/plain": [
       "<QuerySet [{'blog__nome': 'Bloguinho', 'titulo': 'Meu primeiro post'}, {'blog__nome': 'Bloguinho', 'titulo': 'Meu segundo post'}, {'blog__nome': 'Bloguinho', 'titulo': 'Meu terceiro post'}]>"
      ]
     },
     "execution_count": 37,
     "metadata": {},
     "output_type": "execute_result"
    }
   ],
   "source": [
    "# Exibe o nome do blog e titulo do post\n",
    "Post.objects.values(\"blog__nome\",\"titulo\")"
   ]
  },
  {
   "cell_type": "code",
   "execution_count": 40,
   "metadata": {},
   "outputs": [
    {
     "data": {
      "text/plain": [
       "0"
      ]
     },
     "execution_count": 40,
     "metadata": {},
     "output_type": "execute_result"
    }
   ],
   "source": [
    "# Contabiliza o numero de posts por autor\n",
    "from django.db.models import Count\n",
    "autores = Author.objects.annotate(Count('post'))\n",
    "autores[0].post__count"
   ]
  },
  {
   "attachments": {},
   "cell_type": "markdown",
   "metadata": {},
   "source": [
    " - É possível utilizar o Django para acessar uma base de dados legado\n",
    " - O Django gera automaticamente as classes para essa base de dados com o comando python manage.py inspectdb > models.py\n",
    " - É recomendável criar um aplicação nova para cada base de dados legado\n",
    " - https://docs.djangoproject.com/en/3.0/howto/legacy-databases/"
   ]
  },
  {
   "attachments": {},
   "cell_type": "markdown",
   "metadata": {},
   "source": [
    "Recomendações\n",
    " - Minimize o número de consultas ao banco quando possível\n",
    " - Use índice quando possível para facilitar consultas repetitivas (ex: busca por CPF, nome da cidade)\n",
    "- Aprenda a usar cache para deixar as consultas ainda mais rápidas\n",
    "- SQLLite: recomendável apenas para testes\n",
    "- Use Transações quando necessário\n",
    "- Deixe a base de dados normalizada - ou seja, evite redundancia de dados\n",
    "- Use as classes Django para alterar a estrutura do banco de dados"
   ]
  }
 ],
 "metadata": {
  "kernelspec": {
   "display_name": "Python 3.9.13 ('base')",
   "language": "python",
   "name": "python3"
  },
  "language_info": {
   "codemirror_mode": {
    "name": "ipython",
    "version": 3
   },
   "file_extension": ".py",
   "mimetype": "text/x-python",
   "name": "python",
   "nbconvert_exporter": "python",
   "pygments_lexer": "ipython3",
   "version": "3.9.13 (main, Aug 25 2022, 23:51:50) [MSC v.1916 64 bit (AMD64)]"
  },
  "orig_nbformat": 4,
  "vscode": {
   "interpreter": {
    "hash": "16f5b46f222e2a3e8d4adbf7141cae37b71ed37616e60735fa5d1164a1bc3ada"
   }
  }
 },
 "nbformat": 4,
 "nbformat_minor": 2
}
