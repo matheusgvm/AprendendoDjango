{
 "cells": [
  {
   "cell_type": "code",
   "execution_count": 5,
   "metadata": {},
   "outputs": [],
   "source": [
    "import os\n",
    "import django\n",
    "\n",
    "os.environ.setdefault(\"DJANGO_SETTINGS_MODULE\", \"primeiro_projeto.settings\")\n",
    "os.environ[\"DJANGO_ALLOW_ASYNC_UNSAFE\"] = \"true\"\n",
    "\n",
    "django.setup()"
   ]
  },
  {
   "cell_type": "code",
   "execution_count": 3,
   "metadata": {},
   "outputs": [
    {
     "name": "stdout",
     "output_type": "stream",
     "text": [
      "<p>\n",
      "    <label for=\"id_nome\">Nome:</label>\n",
      "    <input type=\"text\" name=\"nome\" value=\"Matheus\" maxlength=\"100\" required id=\"id_nome\">\n",
      "    \n",
      "    \n",
      "  </p>\n",
      "\n",
      "  \n",
      "  <p>\n",
      "    <label for=\"id_data_nascimento\">Data de Nascimento:</label>\n",
      "    <input type=\"text\" name=\"data_nascimento\" value=\"1999-05-19\" required id=\"id_data_nascimento\">\n",
      "    \n",
      "    \n",
      "      \n",
      "    \n",
      "  </p>\n"
     ]
    }
   ],
   "source": [
    "from app_projeto.views import PessoaForm\n",
    "\n",
    "dados_recebidos = {\"nome\":\"Matheus\",\"data_nascimento\":\"1999-05-19\"}\n",
    "form = PessoaForm(dados_recebidos)\n",
    "\n",
    "print(form.as_p())"
   ]
  },
  {
   "cell_type": "code",
   "execution_count": 6,
   "metadata": {},
   "outputs": [
    {
     "name": "stdout",
     "output_type": "stream",
     "text": [
      "<li>\n",
      "    \n",
      "    <label for=\"id_nome\">Nome:</label>\n",
      "    <input type=\"text\" name=\"nome\" value=\"Matheus\" maxlength=\"100\" required id=\"id_nome\">\n",
      "    \n",
      "    \n",
      "  </li>\n",
      "\n",
      "  <li>\n",
      "    \n",
      "    <label for=\"id_data_nascimento\">Data de Nascimento:</label>\n",
      "    <input type=\"text\" name=\"data_nascimento\" value=\"1999-05-19\" required id=\"id_data_nascimento\">\n",
      "    \n",
      "    \n",
      "      \n",
      "    \n",
      "  </li>\n"
     ]
    }
   ],
   "source": [
    "if form.is_valid():\n",
    "    form.save()\n",
    "print(form.as_ul())"
   ]
  },
  {
   "cell_type": "code",
   "execution_count": 7,
   "metadata": {},
   "outputs": [
    {
     "data": {
      "text/plain": [
       "<QuerySet [<Pessoa: Matheus - 1999-05-19>]>"
      ]
     },
     "execution_count": 7,
     "metadata": {},
     "output_type": "execute_result"
    }
   ],
   "source": [
    "from app_projeto.models import Pessoa\n",
    "Pessoa.objects.all()"
   ]
  }
 ],
 "metadata": {
  "kernelspec": {
   "display_name": "base",
   "language": "python",
   "name": "python3"
  },
  "language_info": {
   "codemirror_mode": {
    "name": "ipython",
    "version": 3
   },
   "file_extension": ".py",
   "mimetype": "text/x-python",
   "name": "python",
   "nbconvert_exporter": "python",
   "pygments_lexer": "ipython3",
   "version": "3.9.13 (main, Aug 25 2022, 23:51:50) [MSC v.1916 64 bit (AMD64)]"
  },
  "orig_nbformat": 4,
  "vscode": {
   "interpreter": {
    "hash": "16f5b46f222e2a3e8d4adbf7141cae37b71ed37616e60735fa5d1164a1bc3ada"
   }
  }
 },
 "nbformat": 4,
 "nbformat_minor": 2
}
